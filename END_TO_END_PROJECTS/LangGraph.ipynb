{
 "cells": [
  {
   "cell_type": "code",
   "execution_count": 1,
   "metadata": {},
   "outputs": [
    {
     "name": "stdout",
     "output_type": "stream",
     "text": [
      "hello\n"
     ]
    }
   ],
   "source": [
    "print(\"hello\")\n"
   ]
  },
  {
   "cell_type": "code",
   "execution_count": 2,
   "metadata": {},
   "outputs": [],
   "source": [
    "from dotenv import load_dotenv\n",
    "import os\n",
    "GROQ_API_KEY=os.getenv(\"GROQ_API_KEY\")\n"
   ]
  },
  {
   "cell_type": "code",
   "execution_count": 3,
   "metadata": {},
   "outputs": [
    {
     "name": "stdout",
     "output_type": "stream",
     "text": [
      "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\n"
     ]
    }
   ],
   "source": [
    "print(GROQ_API_KEY)"
   ]
  },
  {
   "cell_type": "code",
   "execution_count": 1,
   "metadata": {},
   "outputs": [
    {
     "data": {
      "text/plain": [
       "AIMessage(content='Java is a high-level, object-oriented programming language and platform developed by Sun Microsystems (now owned by Oracle Corporation). It was first released in 1995 and has since become one of the most popular programming languages in the world.\\n\\nHere are some key features of Java:\\n\\n**Platform Independence**: Java is known for its \"write once, run anywhere\" philosophy, which means that Java code can run on any device that has a Java Virtual Machine (JVM) installed. This means that Java programs can run on Windows, macOS, Linux, and other operating systems without modification.\\n\\n**Object-Oriented**: Java is an object-oriented language, which means that it organizes code into objects that contain data and behavior. This makes it easy to write reusable code and model real-world objects and systems.\\n\\n**Simple and Familiar Syntax**: Java\\'s syntax is based on C++ and is designed to be easy to learn and use. It\\'s also relatively simple, with a focus on readability and maintainability.\\n\\n**Robust Security**: Java has built-in security features, such as memory management and data encryption, to help protect against malware and other security threats.\\n\\n**Large Community and Ecosystem**: Java has a massive community of developers, with millions of developers worldwide. This has led to a vast ecosystem of libraries, frameworks, and tools that make it easy to build and deploy Java applications.\\n\\n**Applications**: Java is used in a wide range of applications, including:\\n\\n* Android apps: Java is used to develop the majority of Android apps, including games, productivity tools, and social media apps.\\n* Web applications: Java is used to build web applications, including e-commerce platforms, online banking systems, and social media websites.\\n* Enterprise software: Java is used to build enterprise software, including customer relationship management (CRM) systems, inventory management systems, and financial applications.\\n* Desktop applications: Java is used to build desktop applications, including media players, games, and productivity tools.\\n* Embedded systems: Java is used in embedded systems, including set-top boxes, TVs, and other consumer electronics.\\n\\n**Java Editions**: There are several editions of Java, including:\\n\\n* Java SE (Standard Edition): This is the core Java platform, which includes the Java Development Kit (JDK) and the JVM.\\n* Java EE (Enterprise Edition): This edition is designed for building enterprise-level applications and includes additional features, such as support for web services and distributed computing.\\n* Java ME (Micro Edition): This edition is designed for building applications for mobile devices and embedded systems.\\n\\nOverall, Java is a powerful and versatile programming language that\\'s widely used in many different areas of software development.', response_metadata={'token_usage': {'completion_tokens': 534, 'prompt_tokens': 13, 'total_tokens': 547, 'completion_time': 1.525714286, 'prompt_time': 0.00458139, 'queue_time': 0.018523718999999998, 'total_time': 1.5302956760000002}, 'model_name': 'llama3-70b-8192', 'system_fingerprint': 'fp_7ab5f7e105', 'finish_reason': 'stop', 'logprobs': None}, id='run-82e334dc-02c0-4055-b945-f10ccd0ecfce-0', usage_metadata={'input_tokens': 13, 'output_tokens': 534, 'total_tokens': 547})"
      ]
     },
     "execution_count": 1,
     "metadata": {},
     "output_type": "execute_result"
    }
   ],
   "source": [
    "from langchain_groq import ChatGroq\n",
    "llm=ChatGroq(model=\"llama3-70b-8192\")\n",
    "llm.invoke(\"what is java\")\n"
   ]
  },
  {
   "cell_type": "code",
   "execution_count": 3,
   "metadata": {},
   "outputs": [
    {
     "data": {
      "text/plain": [
       "'Java is a high-level, class-based, object-oriented programming language that is designed to have as few implementation dependencies as possible. It is intended to let application developers \"write once, run anywhere\" (WORA), meaning that compiled Java code can run on all platforms that support Java without the need for recompilation.\\n\\nJava was created by James Gosling at Sun Microsystems (which is now owned by Oracle Corporation) in the mid-1990s. The language was originally called \"Oak\" but was later renamed to Java in 1994.\\n\\nHere are some key features of Java:\\n\\n1. **Object-oriented**: Java is based on the concept of object-oriented programming (OOP), which organizes code into objects that contain data and behavior.\\n2. **Platform independent**: Java code can run on any platform that has a Java Virtual Machine (JVM) installed, including Windows, macOS, Linux, and mobile devices.\\n3. **Simple and familiar syntax**: Java\\'s syntax is based on C++ and is relatively simple and easy to learn, making it a popular choice for beginners and experienced programmers alike.\\n4. **Robust security**: Java has built-in security features, such as memory management and data encryption, to protect against malware and other security threats.\\n5. **Large community and ecosystem**: Java has a massive community of developers, a vast ecosystem of libraries and frameworks, and a wide range of tools and resources available.\\n\\nJava is widely used in various industries, including:\\n\\n1. **Web development**: Java is used to build dynamic web applications, including e-commerce platforms, social media, and online banking systems.\\n2. **Android app development**: Java is used to develop the majority of Android apps, as it is the primary language for Android development.\\n3. **Enterprise software**: Java is used to build large-scale enterprise software, including CRM systems, ERP systems, and other business applications.\\n4. **Desktop applications**: Java is used to build desktop applications, such as IDEs, media players, and games.\\n5. **Machine learning and AI**: Java is used in machine learning and AI applications, including natural language processing, computer vision, and predictive analytics.\\n\\nSome popular Java-based technologies and frameworks include:\\n\\n1. **Spring**: A popular framework for building web applications and microservices.\\n2. ** Hibernate**: An ORM (Object-Relational Mapping) tool for interacting with databases.\\n3. **JavaFX**: A framework for building GUI applications and rich internet applications.\\n4. **Apache Maven**: A build tool for managing Java projects and dependencies.\\n5. **Gradle**: A build tool for managing Java projects and dependencies.\\n\\nOverall, Java is a versatile and widely adopted programming language that is well-suited for a wide range of applications and industries.'"
      ]
     },
     "execution_count": 3,
     "metadata": {},
     "output_type": "execute_result"
    }
   ],
   "source": [
    "llm.invoke(\"what is java\").content"
   ]
  },
  {
   "cell_type": "code",
   "execution_count": 8,
   "metadata": {},
   "outputs": [],
   "source": [
    "def function1(input):\n",
    "    llm=ChatGroq(model=\"llama3-70b-8192\")\n",
    "    res=llm.invoke(\"what is AI\").content\n",
    "    return res"
   ]
  },
  {
   "cell_type": "code",
   "execution_count": 9,
   "metadata": {},
   "outputs": [
    {
     "data": {
      "text/plain": [
       "'Artificial Intelligence (AI) refers to the development of computer systems that can perform tasks that would typically require human intelligence, such as:\\n\\n1. **Learning**: AI systems can learn from data, identify patterns, and improve their performance over time.\\n2. **Problem-solving**: AI systems can analyze data, identify problems, and generate solutions.\\n3. **Reasoning**: AI systems can draw conclusions from data, make decisions, and justify their reasoning.\\n4. **Perception**: AI systems can interpret and understand data from sensors, such as images, speech, and text.\\n\\nThere are several types of AI, including:\\n\\n1. **Narrow or Weak AI**: Designed to perform a specific task, such as playing chess, recognizing faces, or translating languages.\\n2. **General or Strong AI**: Aims to create a human-like intelligence that can perform any intellectual task.\\n3. **Superintelligence**: Significantly more intelligent than the best human minds, with the potential to solve complex problems that are currently unsolvable.\\n4. **Artificial General Intelligence (AGI)**: A hypothetical AI that possesses the ability to understand, learn, and apply knowledge across a wide range of tasks, similar to human intelligence.\\n\\nAI is achieved through various techniques, including:\\n\\n1. **Machine Learning**: A subset of AI that involves training algorithms on data to enable them to make predictions, classify objects, and make decisions.\\n2. **Deep Learning**: A type of machine learning that uses neural networks to analyze data, inspired by the structure and function of the human brain.\\n3. **Natural Language Processing (NLP)**: Enables computers to understand, interpret, and generate human language.\\n4. **Robotics**: Combines AI, computer vision, and robotics to create autonomous systems that can interact with their environment.\\n\\nAI has numerous applications across various industries, including:\\n\\n1. **Healthcare**: Diagnosing diseases, personalizing medicine, and streamlining clinical workflows.\\n2. **Finance**: Fraud detection, risk assessment, and portfolio management.\\n3. **Transportation**: Autonomous vehicles, route optimization, and traffic management.\\n4. **Customer Service**: Chatbots, virtual assistants, and sentiment analysis.\\n5. **Cybersecurity**: Intrusion detection, threat analysis, and incident response.\\n\\nAs AI continues to evolve, it has the potential to transform many aspects of our lives, from how we work and communicate to how we live and interact with each other.'"
      ]
     },
     "execution_count": 9,
     "metadata": {},
     "output_type": "execute_result"
    }
   ],
   "source": [
    "function1(\"what is AI\")"
   ]
  }
 ],
 "metadata": {
  "kernelspec": {
   "display_name": "base",
   "language": "python",
   "name": "python3"
  },
  "language_info": {
   "codemirror_mode": {
    "name": "ipython",
    "version": 3
   },
   "file_extension": ".py",
   "mimetype": "text/x-python",
   "name": "python",
   "nbconvert_exporter": "python",
   "pygments_lexer": "ipython3",
   "version": "3.11.7"
  }
 },
 "nbformat": 4,
 "nbformat_minor": 2
}
